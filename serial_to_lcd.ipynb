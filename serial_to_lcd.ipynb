{
 "cells": [
  {
   "cell_type": "code",
   "execution_count": 1,
   "metadata": {},
   "outputs": [
    {
     "name": "stdout",
     "output_type": "stream",
     "text": [
      "3.4\n"
     ]
    }
   ],
   "source": [
    "import serial\n",
    "import io\n",
    "import random\n",
    "import numpy as np\n",
    "import pandas as pd\n",
    "import os\n",
    "import time\n",
    "import matplotlib.pyplot as plt\n",
    "import seaborn as sns\n",
    "print(serial.__version__)\n",
    "import cv2"
   ]
  },
  {
   "cell_type": "code",
   "execution_count": 7,
   "metadata": {},
   "outputs": [
    {
     "name": "stdout",
     "output_type": "stream",
     "text": [
      "b'a' b'a'\n"
     ]
    }
   ],
   "source": [
    "'''Testing Serial Channel by sending one byte. '''\n",
    "\n",
    "baudrate = 250000\n",
    "\n",
    "ser = serial.Serial()\n",
    "ser.port = 'COM3'\n",
    "ser.baudrate = baudrate\n",
    "ser.timeout = 4\n",
    "\n",
    "ser.open()\n",
    "strtowrite = b'a'\n",
    "ser.write(strtowrite)\n",
    "data = ser.read()\n",
    "ser.close()\n",
    "print(strtowrite, data)\n"
   ]
  },
  {
   "cell_type": "code",
   "execution_count": 8,
   "metadata": {},
   "outputs": [],
   "source": [
    "'''Loading list of images saved in Qoo'''\n",
    "\n",
    "pad = r\"C:\\Users\\Boss\\Pictures\\pix\"\n",
    "\n",
    "files = []\n",
    "paths = []\n",
    "for dirpath, dirnames, filenames in os.walk(pad):\n",
    "    #print(np.shape(filenames))\n",
    "    #print(os.path.join(str(filenames)))\n",
    "    files.append(filenames)\n",
    "    paths.append(dirpath)\n",
    "files = files[0]\n",
    "#print(files)"
   ]
  },
  {
   "cell_type": "code",
   "execution_count": 9,
   "metadata": {},
   "outputs": [
    {
     "data": {
      "text/plain": [
       "<matplotlib.image.AxesImage at 0x165b94f5978>"
      ]
     },
     "execution_count": 9,
     "metadata": {},
     "output_type": "execute_result"
    },
    {
     "data": {
      "image/png": "[encoded data removed]",
      "text/plain": [
       "<Figure size 432x288 with 1 Axes>"
      ]
     },
     "metadata": {},
     "output_type": "display_data"
    }
   ],
   "source": [
    "'''Loading & resizing file'''\n",
    "\n",
    "imga = cv2.imread(os.path.join(paths[0], files[0]), cv2.IMREAD_GRAYSCALE)\n",
    "nima = (cv2.resize(imga, (84, 48)))#.flatten()\n",
    "plt.imshow(nima)"
   ]
  },
  {
   "cell_type": "code",
   "execution_count": null,
   "metadata": {},
   "outputs": [],
   "source": []
  },
  {
   "cell_type": "code",
   "execution_count": 125,
   "metadata": {},
   "outputs": [
    {
     "name": "stdout",
     "output_type": "stream",
     "text": [
      "[[255 254 253 ... 253 254 255]\n",
      " [255 254 253 ... 253 254 255]\n",
      " [254 253 252 ... 252 253 254]\n",
      " ...\n",
      " [254 253 252 ... 252 253 254]\n",
      " [255 254 253 ... 253 254 255]\n",
      " [255 254 253 ... 253 254 255]]\n",
      "1.0 0.0\n",
      "0.4672298085901027\n",
      "0.03529411764705882\n",
      "0.48634512039247063\n",
      "(4032,)\n",
      "1937.0\n",
      "2095.0\n",
      "1.0 0.0\n"
     ]
    },
    {
     "data": {
      "text/plain": [
       "(<matplotlib.image.AxesImage at 0x1c18a7ca438>,)"
      ]
     },
     "execution_count": 125,
     "metadata": {},
     "output_type": "execute_result"
    },
    {
     "data": {
      "image/png": "[encoded data removed]",
      "text/plain": [
       "<Figure size 432x288 with 1 Axes>"
      ]
     },
     "metadata": {},
     "output_type": "display_data"
    }
   ],
   "source": [
    "'''Grayscale data is scaled down to {0, 1} value. Threshold is [devide] parameter.'''\n",
    "\n",
    "devide = 0.2 \n",
    "fileindex = 10\n",
    "\n",
    "imga = cv2.imread(os.path.join(paths[0], files[fileindex]), cv2.IMREAD_GRAYSCALE)\n",
    "nima = np.rot90((cv2.resize(imga, (84, 48))), 2)#.flatten()\n",
    "#nima[nima < 20] = 0\n",
    "nimamin = np.min(nima)\n",
    "nimamax = np.max(nima)\n",
    "\n",
    "if np.sum(nima) != 0:    \n",
    "    nimaa = (nima - nimamin) / nimamax    \n",
    "    print(np.max(nimaa), np.min(nimaa))\n",
    "    print(np.mean(nimaa))\n",
    "    print(np.median(nimaa))\n",
    "    print(np.std(nimaa))\n",
    "    \n",
    "    nimaa[nimaa > devide] = 1\n",
    "    nimaa[nimaa <= devide] = 0\n",
    "\n",
    "nimaaa = 1 - nimaa.T.flatten()\n",
    "print(np.shape(nimaaa))\n",
    "print(np.sum(nimaa))\n",
    "print(np.sum(nimaaa))\n",
    "print(np.max(nimaaa), np.min(nimaaa))\n",
    "mulpli = 2 ** (np.arange(7, -1, -1)) \n",
    "\n",
    "mulpli = 2 ** (np.arange(8)) #Byte coefficients\n",
    "screencount = (len(nimaaa) // 8)\n",
    "data_l = []\n",
    "ser.close()\n",
    "ser.open()\n",
    "\n",
    "for i in range(screencount):\n",
    "    il = i * 8\n",
    "    ih = (i * 8) + 8\n",
    "    iii = int((np.sum(nimaaa[il:ih] * mulpli)))\n",
    "    #print(iii)\n",
    "    ii = chr(iii).encode('latin-1')\n",
    "    ser.write(ii)\n",
    "    data = ser.read()\n",
    "    data_l.append(data)\n",
    "\n",
    "ser.close()\n",
    "plt.imshow(imga), # cmap='Greys'\n",
    "plt.imshow(nimaaa.reshape(48,84)), # cmap='Greys'"
   ]
  }
 ],
 "metadata": {
  "kernelspec": {
   "display_name": "Python 3",
   "language": "python",
   "name": "python3"
  },
  "language_info": {
   "codemirror_mode": {
    "name": "ipython",
    "version": 3
   },
   "file_extension": ".py",
   "mimetype": "text/x-python",
   "name": "python",
   "nbconvert_exporter": "python",
   "pygments_lexer": "ipython3",
   "version": "3.6.5"
  }
 },
 "nbformat": 4,
 "nbformat_minor": 2
}
